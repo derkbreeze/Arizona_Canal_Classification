{
 "cells": [
  {
   "cell_type": "code",
   "execution_count": 1,
   "metadata": {},
   "outputs": [],
   "source": [
    "import glob\n",
    "import cv2\n",
    "import numpy as np\n",
    "import matplotlib\n",
    "from matplotlib import pyplot as plt\n",
    "import skimage.io"
   ]
  },
  {
   "cell_type": "code",
   "execution_count": 5,
   "metadata": {},
   "outputs": [
    {
     "name": "stdout",
     "output_type": "stream",
     "text": [
      "['test', 'bad', '4025.jpg']\n"
     ]
    },
    {
     "ename": "AttributeError",
     "evalue": "'list' object has no attribute 'split'",
     "output_type": "error",
     "traceback": [
      "\u001b[0;31m---------------------------------------------------------------------------\u001b[0m",
      "\u001b[0;31mAttributeError\u001b[0m                            Traceback (most recent call last)",
      "\u001b[0;32m<ipython-input-5-4d0945507dcb>\u001b[0m in \u001b[0;36m<module>\u001b[0;34m()\u001b[0m\n\u001b[1;32m      8\u001b[0m     \u001b[0mprint\u001b[0m\u001b[0;34m(\u001b[0m\u001b[0mstr\u001b[0m\u001b[0;34m)\u001b[0m\u001b[0;34m\u001b[0m\u001b[0m\n\u001b[1;32m      9\u001b[0m \u001b[0;34m\u001b[0m\u001b[0m\n\u001b[0;32m---> 10\u001b[0;31m     \u001b[0mindex\u001b[0m \u001b[0;34m=\u001b[0m \u001b[0mint\u001b[0m\u001b[0;34m(\u001b[0m\u001b[0mstr\u001b[0m\u001b[0;34m.\u001b[0m\u001b[0msplit\u001b[0m\u001b[0;34m(\u001b[0m\u001b[0;34m'.'\u001b[0m\u001b[0;34m)\u001b[0m\u001b[0;34m[\u001b[0m\u001b[0;36m0\u001b[0m\u001b[0;34m]\u001b[0m\u001b[0;34m)\u001b[0m \u001b[0;31m#convert the string index to numerical index\u001b[0m\u001b[0;34m\u001b[0m\u001b[0m\n\u001b[0m\u001b[1;32m     11\u001b[0m     \u001b[0my1\u001b[0m \u001b[0;34m=\u001b[0m \u001b[0mint\u001b[0m\u001b[0;34m(\u001b[0m\u001b[0;34m(\u001b[0m\u001b[0mindex\u001b[0m\u001b[0;34m-\u001b[0m\u001b[0;36m1\u001b[0m\u001b[0;34m)\u001b[0m\u001b[0;34m/\u001b[0m\u001b[0;36m72\u001b[0m\u001b[0;34m)\u001b[0m\u001b[0;34m\u001b[0m\u001b[0m\n\u001b[1;32m     12\u001b[0m     \u001b[0mx1\u001b[0m \u001b[0;34m=\u001b[0m \u001b[0mindex\u001b[0m\u001b[0;34m-\u001b[0m\u001b[0;36m72\u001b[0m\u001b[0;34m*\u001b[0m\u001b[0my1\u001b[0m\u001b[0;34m-\u001b[0m\u001b[0;36m1\u001b[0m\u001b[0;34m\u001b[0m\u001b[0m\n",
      "\u001b[0;31mAttributeError\u001b[0m: 'list' object has no attribute 'split'"
     ]
    }
   ],
   "source": [
    "img_list = []\n",
    "img_coor_list = []\n",
    "image_size=128\n",
    "#put all images in the list\n",
    "for str in glob.glob('test/bad/*.jpg'):\n",
    "    coor=[]\n",
    "    str=str.split('/',2)\n",
    "    print(str)\n",
    "    index=str[2].s\n",
    "    \n",
    "    index = int(str.split('.')[0]) #convert the string index to numerical index\n",
    "    y1 = int((index-1)/72)\n",
    "    x1 = index-72*y1-1\n",
    "    y2 = y1+7\n",
    "    x2 = x1+7\n",
    "    coor.append(x1)\n",
    "    coor.append(y1)\n",
    "    coor.append(x2)\n",
    "    coor.append(y2)\n",
    "    img_coor_list.append(coor)\n",
    "\n",
    "index_matrix = np.array(img_coor_list)"
   ]
  },
  {
   "cell_type": "code",
   "execution_count": 5,
   "metadata": {},
   "outputs": [
    {
     "name": "stdout",
     "output_type": "stream",
     "text": [
      "[ 0.  0.  0.  0.  0.  0.  0.  0.  0.  0.  0.  0.  0.  0.  0.  0.  0.  0.\n",
      "  0.  0.  0.  0.  0.  0.  0.  0.  0.  0.  0.  0.  0.  0.  0.  0.]\n"
     ]
    }
   ],
   "source": [
    "# dict_list=[]\n",
    "# for i in range(4):\n",
    "#     dict_list.append( {i,0} )\n",
    "# print(dict_list)\n",
    "\n",
    "with open('bad.txt','r') as f:\n",
    "    a = f.readlines()\n",
    "    \n",
    "result = np.zeros(len(a))\n",
    "\n",
    "for i in range(len(a)):\n",
    "    row = a[i].split('\\t')[0]\n",
    "    row = int(row)\n",
    "    \n",
    "    col = a[i].split('\\t')[1]\n",
    "    col = int(col)\n",
    "    \n",
    "    for j in range(index_matrix.shape[0]):        \n",
    "        if row>index_matrix[j][1] and row<index_matrix[j][3] and col>index_matrix[j][0] and col<index_matrix[j][2]:            \n",
    "            result[i]+=1\n",
    "\n",
    "print(result) #print the final result that how many times a point has been hit by detection\n"
   ]
  },
  {
   "cell_type": "code",
   "execution_count": 6,
   "metadata": {},
   "outputs": [
    {
     "name": "stdout",
     "output_type": "stream",
     "text": [
      "[[ 89.97227478  89.69656372  89.44393921 ...,  90.74768066  91.27019501\n",
      "   91.75968933]\n",
      " [ 89.55918884  89.4085083   89.28062439 ...,  90.85381317  91.26921082\n",
      "   91.69085693]\n",
      " [ 89.29891968  89.24859619  89.21212769 ...,  91.40878296  91.72535706\n",
      "   91.99194336]\n",
      " ..., \n",
      " [ 86.307724    87.18740082  87.7125473  ...,  91.41784668  90.623703\n",
      "   89.57955933]\n",
      " [ 86.08931732  87.07204437  87.65272522 ...,  91.64851379  91.12677002\n",
      "   90.09460449]\n",
      " [ 85.97341156  86.97047424  87.61125183 ...,  92.00996399  91.6990509\n",
      "   90.71824646]] float32\n"
     ]
    },
    {
     "data": {
      "image/png": "[encoded data removed]",
      "text/plain": [
       "<matplotlib.figure.Figure at 0x7f386173d710>"
      ]
     },
     "metadata": {},
     "output_type": "display_data"
    }
   ],
   "source": [
    "\n",
    "image=cv2.imread('a.tif',-1)\n",
    "print(image,image.dtype)\n",
    "#cv2.rectangle(image, (x1, y1), (x2, y2), (255,0,0), 1)\n",
    "plt.imshow(image, cmap = 'gray', interpolation = 'bicubic')\n",
    "plt.xticks([]), plt.yticks([])  # to hide tick values on X and Y axis\n",
    "plt.show()"
   ]
  },
  {
   "cell_type": "code",
   "execution_count": null,
   "metadata": {},
   "outputs": [],
   "source": []
  }
 ],
 "metadata": {
  "kernelspec": {
   "display_name": "Python 3",
   "language": "python",
   "name": "python3"
  },
  "language_info": {
   "codemirror_mode": {
    "name": "ipython",
    "version": 3
   },
   "file_extension": ".py",
   "mimetype": "text/x-python",
   "name": "python",
   "nbconvert_exporter": "python",
   "pygments_lexer": "ipython3",
   "version": "3.6.3"
  }
 },
 "nbformat": 4,
 "nbformat_minor": 2
}
